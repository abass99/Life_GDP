{
 "cells": [
  {
   "cell_type": "markdown",
   "metadata": {},
   "source": [
    "# Life Expectancy and GDP project"
   ]
  },
  {
   "cell_type": "markdown",
   "metadata": {},
   "source": [
    "The idea behind this project is to practice EDA (Eploratory Data Analysis) and data visualisation.\n",
    "\n",
    "The data - GDP and life expectancy from the World Health Organization and the World Bank.\n",
    "\n",
    "Main task: identify the relationship between the GDP and life expectancy of six countries.\n"
   ]
  },
  {
   "cell_type": "markdown",
   "metadata": {},
   "source": [
    "+ Import all necessarry libraries for the project:"
   ]
  },
  {
   "cell_type": "code",
   "execution_count": 2,
   "metadata": {},
   "outputs": [],
   "source": [
    "import pandas as pd\n",
    "import numpy as np\n",
    "import matplotlib.pyplot as plt\n",
    "import seaborn as sns"
   ]
  },
  {
   "cell_type": "markdown",
   "metadata": {},
   "source": [
    "+ Load data and inspect columns"
   ]
  },
  {
   "cell_type": "code",
   "execution_count": 3,
   "metadata": {},
   "outputs": [
    {
     "name": "stdout",
     "output_type": "stream",
     "text": [
      "  Country  Year  Life expectancy at birth (years)           GDP\n",
      "0   Chile  2000                              77.3  7.786093e+10\n",
      "1   Chile  2001                              77.3  7.097992e+10\n",
      "2   Chile  2002                              77.8  6.973681e+10\n",
      "3   Chile  2003                              77.9  7.564346e+10\n",
      "4   Chile  2004                              78.0  9.921039e+10\n",
      "5   Chile  2005                              78.4  1.229650e+11\n",
      "6   Chile  2006                              78.9  1.547880e+11\n",
      "Country                              object\n",
      "Year                                  int64\n",
      "Life expectancy at birth (years)    float64\n",
      "GDP                                 float64\n",
      "dtype: object\n",
      "              Year  Life expectancy at birth (years)           GDP\n",
      "count    96.000000                         96.000000  9.600000e+01\n",
      "mean   2007.500000                         72.789583  3.880499e+12\n",
      "std       4.633971                         10.672882  5.197561e+12\n",
      "min    2000.000000                         44.300000  4.415703e+09\n",
      "25%    2003.750000                         74.475000  1.733018e+11\n",
      "50%    2007.500000                         76.750000  1.280220e+12\n",
      "75%    2011.250000                         78.900000  4.067510e+12\n",
      "max    2015.000000                         81.000000  1.810000e+13\n"
     ]
    }
   ],
   "source": [
    "data = pd.read_csv(\"all_data.csv\")\n",
    "print(data.head(7))\n",
    "print(data.dtypes)\n",
    "print(data.describe())"
   ]
  },
  {
   "cell_type": "markdown",
   "metadata": {},
   "source": [
    "Dataframe consists of 4 columns"
   ]
  }
 ],
 "metadata": {
  "kernelspec": {
   "display_name": "Python 3",
   "language": "python",
   "name": "python3"
  },
  "language_info": {
   "codemirror_mode": {
    "name": "ipython",
    "version": 3
   },
   "file_extension": ".py",
   "mimetype": "text/x-python",
   "name": "python",
   "nbconvert_exporter": "python",
   "pygments_lexer": "ipython3",
   "version": "3.9.0"
  }
 },
 "nbformat": 4,
 "nbformat_minor": 4
}
